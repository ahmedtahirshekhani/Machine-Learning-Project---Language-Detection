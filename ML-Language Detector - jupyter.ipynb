{
  "cells": [
    {
      "cell_type": "code",
      "source": [
        "!pip install python_speech_features"
      ],
      "metadata": {
        "id": "PTWoKY1IEwXB",
        "colab": {
          "base_uri": "https://localhost:8080/"
        },
        "outputId": "9506c0a6-997a-4033-8195-ad7c6fbd9ccf"
      },
      "execution_count": 115,
      "outputs": [
        {
          "output_type": "stream",
          "name": "stdout",
          "text": [
            "Collecting python_speech_features\n",
            "  Downloading python_speech_features-0.6.tar.gz (5.6 kB)\n",
            "Building wheels for collected packages: python-speech-features\n",
            "  Building wheel for python-speech-features (setup.py) ... \u001b[?25l\u001b[?25hdone\n",
            "  Created wheel for python-speech-features: filename=python_speech_features-0.6-py3-none-any.whl size=5888 sha256=922ad1360f218384e0f95f6bf1b9a20493b20097ac34a98ce5d85613614a22bb\n",
            "  Stored in directory: /root/.cache/pip/wheels/b0/0e/94/28cd6afa3cd5998a63eef99fe31777acd7d758f59cf24839eb\n",
            "Successfully built python-speech-features\n",
            "Installing collected packages: python-speech-features\n",
            "Successfully installed python-speech-features-0.6\n"
          ]
        }
      ]
    },
    {
      "cell_type": "code",
      "execution_count": 116,
      "metadata": {
        "id": "DbeJEqUNE4Sp"
      },
      "outputs": [],
      "source": [
        "import pandas as pd\n",
        "import numpy as np\n",
        "import matplotlib.pyplot as plt\n",
        "from sklearn.svm import SVC\n",
        "from sklearn import svm\n",
        "from sklearn import metrics\n",
        "from sklearn.model_selection import cross_val_score\n",
        "from sklearn.metrics import accuracy_score, classification_report, confusion_matrix, ConfusionMatrixDisplay, make_scorer, log_loss, mean_squared_error\n",
        "from sklearn.model_selection import learning_curve, validation_curve, cross_val_score\n",
        "from sklearn.neighbors import KNeighborsClassifier\n",
        "from sklearn.model_selection import GridSearchCV\n",
        "from sklearn.ensemble import RandomForestClassifier\n",
        "from sklearn.tree import DecisionTreeClassifier\n",
        "from sklearn.model_selection import train_test_split\n",
        "from sklearn import preprocessing\n",
        "from sklearn.neural_network import MLPClassifier\n",
        "\n",
        "import glob\n",
        "import os\n",
        "import math\n",
        "import python_speech_features as mfcc\n",
        "from scipy.io.wavfile import read\n",
        "\n",
        "import logging\n",
        "logger = logging.getLogger()\n",
        "logger.setLevel(logging.ERROR)\n",
        "\n",
        "import seaborn as sns\n"
      ]
    },
    {
      "cell_type": "code",
      "source": [
        "def get_MFCC(audio, sr):\n",
        "    features = mfcc.mfcc(audio, sr, 0.025, 0.01, 13, appendEnergy = True)\n",
        "    return np.mean(features, axis=0)"
      ],
      "metadata": {
        "id": "FdfaNCa7Etg6"
      },
      "execution_count": null,
      "outputs": []
    },
    {
      "cell_type": "code",
      "source": [
        "data_file_names = [os.path.basename(x) for x in glob.glob(\"/content/drive/My Drive/Recordings/*\")]"
      ],
      "metadata": {
        "id": "HEiuLBNtFFk4"
      },
      "execution_count": null,
      "outputs": []
    },
    {
      "cell_type": "code",
      "source": [
        "sr, audio = read('/content/drive/My Drive/Recordings/'+data_file_names[0])\n",
        "features = get_MFCC(audio, sr)\n",
        "datasetdata={}\n",
        "for feature_idx in range(len(features)):\n",
        "  datasetdata[feature_idx] = features[feature_idx]\n",
        "main_dataset = pd.DataFrame(data=datasetdata, index=[0])\n",
        "for sample in range(1,len(data_file_names)):\n",
        "  sr, audio = read('/content/drive/My Drive/Recordings/'+data_file_names[sample])\n",
        "  features = get_MFCC(audio, sr)\n",
        "  datasetdata={}\n",
        "  for feature_idx in range(len(features)):\n",
        "    datasetdata[feature_idx] = features[feature_idx]\n",
        "  df = pd.DataFrame(data=datasetdata, index=[0])\n",
        "  main_dataset = main_dataset.append(df, ignore_index=True)\n"
      ],
      "metadata": {
        "id": "0wsdQ4QGFNZA"
      },
      "execution_count": null,
      "outputs": []
    },
    {
      "cell_type": "code",
      "source": [
        "result = [data_file_names[i][0]+data_file_names[i][1] for i in range(len(data_file_names))]"
      ],
      "metadata": {
        "id": "zHxi0Xf_FQVY"
      },
      "execution_count": null,
      "outputs": []
    },
    {
      "cell_type": "code",
      "source": [
        "label_encoding = preprocessing.LabelEncoder()\n",
        "encoded_labels = label_encoding.fit_transform(result)\n",
        "dataset_result = pd.DataFrame({\"Result\":encoded_labels})\n",
        "label_with_name = label_encoding.classes_"
      ],
      "metadata": {
        "id": "q4PpT_hsHdBX"
      },
      "execution_count": null,
      "outputs": []
    },
    {
      "cell_type": "code",
      "source": [
        "main_dataset_mean = main_dataset.mean(axis=0)\n",
        "main_dataset_std = main_dataset.std(axis=0)\n",
        "main_dataset_normalize = (main_dataset - main_dataset_mean)/main_dataset_std"
      ],
      "metadata": {
        "id": "l0l4rh3RHwlm"
      },
      "execution_count": null,
      "outputs": []
    },
    {
      "cell_type": "code",
      "source": [
        "X_train, X_test, y_train, y_test = train_test_split(main_dataset_normalize, dataset_result, test_size=0.2, random_state=42)"
      ],
      "metadata": {
        "id": "a4clCD3eH2t6"
      },
      "execution_count": null,
      "outputs": []
    },
    {
      "cell_type": "code",
      "source": [
        "# from google.colab import files\n",
        "\n",
        "# X_train.to_csv('x_train.csv', index = False)\n",
        "# files.download('x_train.csv')\n",
        "\n",
        "# y_train.to_csv('y_train.csv', index = False)\n",
        "# files.download('y_train.csv')\n",
        "\n",
        "# X_test.to_csv('x_test.csv', index = False)\n",
        "# files.download('x_test.csv')\n",
        "\n",
        "# y_test.to_csv('y_test.csv', index = False)\n",
        "# files.download('y_test.csv')"
      ],
      "metadata": {
        "id": "qh_EAppJH6tY"
      },
      "execution_count": null,
      "outputs": []
    },
    {
      "cell_type": "code",
      "source": [
        "X_train = X_train.to_numpy()\n",
        "X_test = X_test.to_numpy()\n",
        "y_train = y_train.to_numpy().flatten()\n",
        "y_test = y_test.to_numpy().flatten()\n",
        "\n",
        "labels={}\n",
        "labels['English'] = \"English\"\n",
        "labels['Mixed'] = \"Mixed\"\n",
        "labels['Urdu'] = \"Urdu\""
      ],
      "metadata": {
        "id": "4oTUOYUPICW3"
      },
      "execution_count": null,
      "outputs": []
    },
    {
      "cell_type": "code",
      "execution_count": null,
      "metadata": {
        "id": "Q2esgev4FUlX"
      },
      "outputs": [],
      "source": [
        "# X_train_df = pd.read_csv('x_train.csv')\n",
        "# X_test_df = pd.read_csv('x_test.csv')\n",
        "# y_train_df = pd.read_csv('y_train.csv')\n",
        "# y_test_df = pd.read_csv('y_test.csv')\n",
        "\n",
        "# X_train = X_train_df.to_numpy()\n",
        "# X_test = X_test_df.to_numpy()\n",
        "# y_train = y_train_df.to_numpy().flatten()\n",
        "# y_test = y_test_df.to_numpy().flatten()"
      ]
    },
    {
      "cell_type": "markdown",
      "source": [
        "# PART 1: Training & Testing All 3 Models\n",
        "\n",
        "## Implementing kNN Classifier:\n",
        "\n",
        "#### Initializing & Fitting the model\n"
      ],
      "metadata": {
        "id": "_BWHc7zTgMym"
      }
    },
    {
      "cell_type": "code",
      "source": [
        "knn = KNeighborsClassifier(n_neighbors=1)\n",
        "scores = cross_val_score(knn,X_train,y_train,cv=5)\n",
        "Sum = sum(scores)\n",
        "print(\"accuracy=\",Sum/5)"
      ],
      "metadata": {
        "colab": {
          "base_uri": "https://localhost:8080/"
        },
        "id": "RRbi_bwVhMEs",
        "outputId": "0564b04b-ba42-4931-d729-423d5ff9d372"
      },
      "execution_count": null,
      "outputs": [
        {
          "output_type": "stream",
          "name": "stdout",
          "text": [
            "accuracy= 0.79536821028614\n"
          ]
        }
      ]
    },
    {
      "cell_type": "code",
      "source": [
        "knnOptimized = KNeighborsClassifier()\n",
        "range_para = {'n_neighbors': np.arange(1, 20)}\n",
        "knn_with_gs = GridSearchCV(knnOptimized, range_para, cv=5, return_train_score=True, scoring=\"neg_log_loss\")\n",
        "knn_with_gs.fit(X_train, y_train)\n",
        "knn_with_gs.best_params_"
      ],
      "metadata": {
        "colab": {
          "base_uri": "https://localhost:8080/"
        },
        "id": "X72bNjCTiSEa",
        "outputId": "59644c24-80ab-4832-9e4f-215c55bc8f28"
      },
      "execution_count": null,
      "outputs": [
        {
          "output_type": "execute_result",
          "data": {
            "text/plain": [
              "{'n_neighbors': 19}"
            ]
          },
          "metadata": {},
          "execution_count": 135
        }
      ]
    },
    {
      "cell_type": "code",
      "source": [
        "knn_with_gs.cv_results_[\"mean_train_score\"]\n",
        "np.arange(1, 20)"
      ],
      "metadata": {
        "colab": {
          "base_uri": "https://localhost:8080/"
        },
        "id": "2Nz8JsLpjbGo",
        "outputId": "08d234ac-6eed-4eca-fedc-69470a5c3753"
      },
      "execution_count": null,
      "outputs": [
        {
          "output_type": "execute_result",
          "data": {
            "text/plain": [
              "array([ 1,  2,  3,  4,  5,  6,  7,  8,  9, 10, 11, 12, 13, 14, 15, 16, 17,\n",
              "       18, 19])"
            ]
          },
          "metadata": {},
          "execution_count": 102
        }
      ]
    },
    {
      "cell_type": "code",
      "source": [
        "param_range = np.arange(1, 20)\n",
        "plt.figure(figsize=(5, 5), dpi=80)\n",
        "plt.title(\"Training & Validation Losses\")\n",
        "\n",
        "plt.ylabel(\"Loss\")\n",
        "plt.xlabel(r\"n_neighbors\")\n",
        "\n",
        "plt.ylim(-7.5, 0.1)\n",
        "plt.plot(param_range, knn_with_gs.cv_results_[\"mean_train_score\"], label=\"Training Loss\", color=\"red\")\n",
        "plt.plot(param_range, knn_with_gs.cv_results_[\"mean_test_score\"], label=\"Validation Loss\", color=\"blue\")\n",
        "\n",
        "plt.legend(loc=\"best\")\n",
        "plt.show()\n"
      ],
      "metadata": {
        "colab": {
          "base_uri": "https://localhost:8080/",
          "height": 384
        },
        "id": "4pwx_KZFplIo",
        "outputId": "fc637d02-4bf2-429c-c71e-ffa096e63f18"
      },
      "execution_count": null,
      "outputs": [
        {
          "output_type": "display_data",
          "data": {
            "image/png": "[encoded data removed]",
            "text/plain": [
              "<Figure size 400x400 with 1 Axes>"
            ]
          },
          "metadata": {
            "needs_background": "light"
          }
        }
      ]
    },
    {
      "cell_type": "code",
      "source": [
        "knn = KNeighborsClassifier(n_neighbors=3)\n",
        "\n",
        "#training the KNN classifier with the training data using best 'k' from the cross validation \n",
        "knn.fit(X_train, y_train)"
      ],
      "metadata": {
        "colab": {
          "base_uri": "https://localhost:8080/"
        },
        "id": "9Knc4R0Rr98c",
        "outputId": "11e09633-fc30-477e-b854-2f8a3f0da821"
      },
      "execution_count": null,
      "outputs": [
        {
          "output_type": "execute_result",
          "data": {
            "text/plain": [
              "KNeighborsClassifier(n_neighbors=3)"
            ]
          },
          "metadata": {},
          "execution_count": 116
        }
      ]
    },
    {
      "cell_type": "code",
      "source": [
        "pred_labels = knn.predict(X_test)"
      ],
      "metadata": {
        "id": "vmWr_Btyr7el"
      },
      "execution_count": null,
      "outputs": []
    },
    {
      "cell_type": "code",
      "source": [
        "accuracy = accuracy_score(y_test, pred_labels)\n",
        "print(\"Accuracy = \", accuracy)\n",
        "print(classification_report(y_test, pred_labels))"
      ],
      "metadata": {
        "colab": {
          "base_uri": "https://localhost:8080/"
        },
        "id": "_cz7JJHqr-HK",
        "outputId": "9244428c-515d-44ad-f006-898b1b67833d"
      },
      "execution_count": null,
      "outputs": [
        {
          "output_type": "stream",
          "name": "stdout",
          "text": [
            "Accuracy =  0.8055235903337169\n",
            "              precision    recall  f1-score   support\n",
            "\n",
            "           0       0.75      0.81      0.78      1067\n",
            "           1       0.86      0.82      0.84      1393\n",
            "           2       0.81      0.79      0.80      1016\n",
            "\n",
            "    accuracy                           0.81      3476\n",
            "   macro avg       0.80      0.80      0.80      3476\n",
            "weighted avg       0.81      0.81      0.81      3476\n",
            "\n"
          ]
        }
      ]
    },
    {
      "cell_type": "code",
      "source": [
        "conf_mat = confusion_matrix(y_test, pred_labels)\n",
        "plot_cnm = ConfusionMatrixDisplay(confusion_matrix=conf_mat, display_labels=labels)\n",
        "plot_cnm.plot()\n",
        "plt.grid(False)\n",
        "plt.show()"
      ],
      "metadata": {
        "colab": {
          "base_uri": "https://localhost:8080/",
          "height": 279
        },
        "id": "oVnYBIuqsslU",
        "outputId": "b941a32d-4866-498b-9e02-515e4896f3b9"
      },
      "execution_count": null,
      "outputs": [
        {
          "output_type": "display_data",
          "data": {
            "image/png": "[encoded data removed]",
            "text/plain": [
              "<Figure size 432x288 with 2 Axes>"
            ]
          },
          "metadata": {
            "needs_background": "light"
          }
        }
      ]
    },
    {
      "cell_type": "markdown",
      "source": [
        "## Implementing Decision Trees"
      ],
      "metadata": {
        "id": "tFK9x6ku-KVj"
      }
    },
    {
      "cell_type": "code",
      "source": [
        "tree = DecisionTreeClassifier()"
      ],
      "metadata": {
        "id": "ilata_rL-MGf"
      },
      "execution_count": null,
      "outputs": []
    },
    {
      "cell_type": "code",
      "source": [
        "tree.get_params().keys()"
      ],
      "metadata": {
        "colab": {
          "base_uri": "https://localhost:8080/"
        },
        "id": "CPXO7eaK_Cuw",
        "outputId": "d8677c44-13b0-47d3-aa6c-4cd2a9c80b3d"
      },
      "execution_count": null,
      "outputs": [
        {
          "output_type": "execute_result",
          "data": {
            "text/plain": [
              "dict_keys(['ccp_alpha', 'class_weight', 'criterion', 'max_depth', 'max_features', 'max_leaf_nodes', 'min_impurity_decrease', 'min_samples_leaf', 'min_samples_split', 'min_weight_fraction_leaf', 'random_state', 'splitter'])"
            ]
          },
          "metadata": {},
          "execution_count": 9
        }
      ]
    },
    {
      "cell_type": "code",
      "source": [
        "range_para = {'max_depth': np.arange(5, 30)}\n",
        "tree_with_gs = GridSearchCV(tree, range_para, cv=5, return_train_score=True, scoring=\"neg_log_loss\")\n",
        "tree_with_gs.fit(X_train, y_train)"
      ],
      "metadata": {
        "colab": {
          "base_uri": "https://localhost:8080/"
        },
        "id": "E37-URQT-yAo",
        "outputId": "ad269ac4-cb59-4416-b129-c0553356e006"
      },
      "execution_count": null,
      "outputs": [
        {
          "output_type": "execute_result",
          "data": {
            "text/plain": [
              "GridSearchCV(cv=5, estimator=DecisionTreeClassifier(ccp_alpha=0, max_depth=5),\n",
              "             param_grid={'max_depth': array([ 5,  6,  7,  8,  9, 10, 11, 12, 13, 14, 15, 16, 17, 18, 19, 20, 21,\n",
              "       22, 23, 24, 25, 26, 27, 28, 29])},\n",
              "             return_train_score=True, scoring='neg_log_loss')"
            ]
          },
          "metadata": {},
          "execution_count": 62
        }
      ]
    },
    {
      "cell_type": "code",
      "source": [
        "tree_with_gs.cv_results_[\"mean_test_score\"]"
      ],
      "metadata": {
        "colab": {
          "base_uri": "https://localhost:8080/"
        },
        "id": "nQBKjh61Kglc",
        "outputId": "ceb8c51f-2a47-4c81-80f9-4578e7556b61"
      },
      "execution_count": null,
      "outputs": [
        {
          "output_type": "execute_result",
          "data": {
            "text/plain": [
              "array([ -1.10746114,  -1.18785052,  -1.33704365,  -1.55340285,\n",
              "        -1.88259474,  -2.61241857,  -3.4830993 ,  -4.45313323,\n",
              "        -5.86141436,  -7.1753682 ,  -8.42018795,  -9.83226315,\n",
              "       -11.17013197, -12.24386396, -13.19951646, -13.74105124,\n",
              "       -14.35268111, -14.69254197, -15.00223825, -15.08658795,\n",
              "       -15.20590398, -15.36620871, -15.42816501, -15.34431691,\n",
              "       -15.44887643])"
            ]
          },
          "metadata": {},
          "execution_count": 66
        }
      ]
    },
    {
      "cell_type": "code",
      "source": [
        "param_range = np.arange(5, 30)\n",
        "plt.figure(figsize=(5, 5), dpi=80)\n",
        "plt.title(\"Training & Validation Losses\")\n",
        "\n",
        "plt.ylabel(\"Loss\")\n",
        "plt.xlabel(r\"max_depth\")\n",
        "\n",
        "plt.ylim(-15, 0)\n",
        "plt.plot(param_range, tree_with_gs.cv_results_[\"mean_train_score\"], label=\"Training Loss\", color=\"red\")\n",
        "plt.plot(param_range, tree_with_gs.cv_results_[\"mean_test_score\"], label=\"Validation Loss\", color=\"blue\")\n",
        "\n",
        "plt.legend(loc=\"best\")\n",
        "plt.show()\n"
      ],
      "metadata": {
        "colab": {
          "base_uri": "https://localhost:8080/",
          "height": 384
        },
        "id": "tSVNEKxsKbPf",
        "outputId": "a2bfc7ca-4309-4d0a-aa49-4042bb879220"
      },
      "execution_count": null,
      "outputs": [
        {
          "output_type": "display_data",
          "data": {
            "image/png": "[encoded data removed]",
            "text/plain": [
              "<Figure size 400x400 with 1 Axes>"
            ]
          },
          "metadata": {
            "needs_background": "light"
          }
        }
      ]
    },
    {
      "cell_type": "code",
      "source": [
        "tree = DecisionTreeClassifier(max_depth=21, ccp_alpha=0)\n",
        "tree.fit(X_train, y_train)"
      ],
      "metadata": {
        "colab": {
          "base_uri": "https://localhost:8080/"
        },
        "id": "DcYbm_7bGmzv",
        "outputId": "c775a3d3-1662-49e5-983b-0b8596c61841"
      },
      "execution_count": null,
      "outputs": [
        {
          "output_type": "execute_result",
          "data": {
            "text/plain": [
              "DecisionTreeClassifier(ccp_alpha=0, max_depth=21)"
            ]
          },
          "metadata": {},
          "execution_count": 80
        }
      ]
    },
    {
      "cell_type": "code",
      "source": [
        "pred_labels = tree.predict(X_test)"
      ],
      "metadata": {
        "id": "5O6QoJHLF6HT"
      },
      "execution_count": null,
      "outputs": []
    },
    {
      "cell_type": "code",
      "source": [
        "accuracy = accuracy_score(y_test, pred_labels)\n",
        "print(\"Accuracy = \", accuracy)\n",
        "print(classification_report(y_test, pred_labels))"
      ],
      "metadata": {
        "colab": {
          "base_uri": "https://localhost:8080/"
        },
        "id": "lR-gpwLNGNFJ",
        "outputId": "4a1ff04c-46a0-4f0e-ff45-f418c44a5b75"
      },
      "execution_count": null,
      "outputs": [
        {
          "output_type": "stream",
          "name": "stdout",
          "text": [
            "Accuracy =  0.5929228998849252\n",
            "              precision    recall  f1-score   support\n",
            "\n",
            "           0       0.58      0.58      0.58      1067\n",
            "           1       0.64      0.62      0.63      1393\n",
            "           2       0.55      0.57      0.56      1016\n",
            "\n",
            "    accuracy                           0.59      3476\n",
            "   macro avg       0.59      0.59      0.59      3476\n",
            "weighted avg       0.59      0.59      0.59      3476\n",
            "\n"
          ]
        }
      ]
    },
    {
      "cell_type": "code",
      "source": [
        "conf_mat = confusion_matrix(y_test, pred_labels)\n",
        "plot_cnm = ConfusionMatrixDisplay(confusion_matrix=conf_mat, display_labels=labels)\n",
        "plot_cnm.plot()\n",
        "plt.grid(False)\n",
        "plt.show()"
      ],
      "metadata": {
        "colab": {
          "base_uri": "https://localhost:8080/",
          "height": 279
        },
        "id": "1qC3UWcZLKcp",
        "outputId": "d4a91436-9739-4950-c650-c6042a06e3a3"
      },
      "execution_count": null,
      "outputs": [
        {
          "output_type": "display_data",
          "data": {
            "image/png": "[encoded data removed]",
            "text/plain": [
              "<Figure size 432x288 with 2 Axes>"
            ]
          },
          "metadata": {
            "needs_background": "light"
          }
        }
      ]
    },
    {
      "cell_type": "markdown",
      "source": [
        "# Implementing Random Forest: (FINAL SELECTED)\n",
        "\n",
        "Reason: \n",
        "\n",
        "KNN only calculates the distance of the test instant with the nearest k points and in case of big data set it may take a lot of time because it calculates the distance from each training point. Also it may not work very well if there is some noise in the data.\n",
        "\n",
        "On the other hand, Random forest is just a bundle of decision trees. The process of bagging is totally random so there is less possibility of inter dependency so this method can work very well in case the data is even noisy.\n",
        "\n",
        "Possibly some decision trees would give us false output but there would be trees opposing the output of those trees and this effect would cancel each other. At the end there is a handsome probability of getting the right output by the remaining trees.\n",
        "\n",
        "This is a reason why we are preffering random forest though we are getting slightly higher accuracy using KNN model."
      ],
      "metadata": {
        "id": "9hnpNXYPri2w"
      }
    },
    {
      "cell_type": "code",
      "source": [
        "RF = RandomForestClassifier()\n",
        "range_para = {'n_estimators': np.arange(300, 350)}\n",
        "rf_with_gs = GridSearchCV(RF, range_para, cv=5, return_train_score=True, scoring=\"neg_log_loss\")\n",
        "rf_with_gs.fit(X_train, y_train)\n",
        "rf_with_gs.best_params_"
      ],
      "metadata": {
        "colab": {
          "base_uri": "https://localhost:8080/"
        },
        "id": "IMrJ5l3-zmKr",
        "outputId": "edfef325-039c-4945-c13e-29a5c3ea8194"
      },
      "execution_count": 94,
      "outputs": [
        {
          "output_type": "execute_result",
          "data": {
            "text/plain": [
              "{'n_estimators': 301}"
            ]
          },
          "metadata": {},
          "execution_count": 94
        }
      ]
    },
    {
      "cell_type": "code",
      "source": [
        "# 5 Fold Loss Report\n",
        "\n",
        "print(\"\\nSplit 0 Loss in Training Data\\n\")\n",
        "print(rf_with_gs.cv_results_[\"split0_train_score\"])\n",
        "print(\"\\n\")\n",
        "print(\"\\n Split 0 Loss in Validation Data\\n\")\n",
        "print(rf_with_gs.cv_results_[\"split0_train_score\"])\n",
        "\n",
        "print(\"\\nSplit 1 Loss in Training Data\\n\")\n",
        "print(rf_with_gs.cv_results_[\"split1_train_score\"])\n",
        "print(\"\\n\")\n",
        "print(\"\\n Split 1 Loss in Validation Data\\n\")\n",
        "print(rf_with_gs.cv_results_[\"split1_train_score\"])\n",
        "\n",
        "print(\"\\nSplit 2 Loss in Training Data\\n\")\n",
        "print(rf_with_gs.cv_results_[\"split2_train_score\"])\n",
        "print(\"\\n\")\n",
        "print(\"\\n Split 2 Loss in Validation Data\\n\")\n",
        "print(rf_with_gs.cv_results_[\"split2_train_score\"])\n",
        "\n",
        "print(\"\\nSplit 3 Loss in Training Data\\n\")\n",
        "print(rf_with_gs.cv_results_[\"split3_train_score\"])\n",
        "print(\"\\n\")\n",
        "print(\"\\n Split 3 Loss in Validation Data\\n\")\n",
        "print(rf_with_gs.cv_results_[\"split3_train_score\"])\n",
        "\n",
        "print(\"\\nSplit 4 Loss in Training Data\\n\")\n",
        "print(rf_with_gs.cv_results_[\"split4_train_score\"])\n",
        "print(\"\\n\")\n",
        "print(\"\\n Split 4 Loss in Validation Data\\n\")\n",
        "print(rf_with_gs.cv_results_[\"split4_train_score\"])\n",
        "\n",
        "print(\"\\nMean Loss in Training Data\\n\")\n",
        "print(rf_with_gs.cv_results_[\"mean_train_score\"])\n",
        "print(\"\\n\")\n",
        "print(\"\\n Mean Loss in Validation Data\\n\")\n",
        "print(rf_with_gs.cv_results_[\"mean_train_score\"])"
      ],
      "metadata": {
        "colab": {
          "base_uri": "https://localhost:8080/"
        },
        "id": "6YVFq1C-3czR",
        "outputId": "0e28e699-49bb-4958-92b1-0faffa8ccfb7"
      },
      "execution_count": 95,
      "outputs": [
        {
          "output_type": "stream",
          "name": "stdout",
          "text": [
            "\n",
            "Split 0 Loss in Training Data\n",
            "\n",
            "[-0.20144724 -0.20153434 -0.20172305 -0.20166886 -0.20106237 -0.20173593\n",
            " -0.20139006 -0.20110365 -0.20161823 -0.20216086 -0.20157485 -0.20141188\n",
            " -0.20133724 -0.20115042 -0.20100446 -0.20127445 -0.20133188 -0.2016746\n",
            " -0.20156163 -0.20166834 -0.20145742 -0.20145046 -0.20159848 -0.20134006\n",
            " -0.20116926 -0.20139616 -0.20102855 -0.20086063 -0.20137565 -0.20166765\n",
            " -0.20112802 -0.20127237 -0.20151381 -0.20123996 -0.20124498 -0.2015987\n",
            " -0.20168173 -0.20161228 -0.20062236 -0.20152579 -0.20116167 -0.20190259\n",
            " -0.20159343 -0.20154496 -0.20150962 -0.20179208 -0.20127514 -0.2011744\n",
            " -0.20121161 -0.20157133]\n",
            "\n",
            "\n",
            "\n",
            " Split 0 Loss in Validation Data\n",
            "\n",
            "[-0.20144724 -0.20153434 -0.20172305 -0.20166886 -0.20106237 -0.20173593\n",
            " -0.20139006 -0.20110365 -0.20161823 -0.20216086 -0.20157485 -0.20141188\n",
            " -0.20133724 -0.20115042 -0.20100446 -0.20127445 -0.20133188 -0.2016746\n",
            " -0.20156163 -0.20166834 -0.20145742 -0.20145046 -0.20159848 -0.20134006\n",
            " -0.20116926 -0.20139616 -0.20102855 -0.20086063 -0.20137565 -0.20166765\n",
            " -0.20112802 -0.20127237 -0.20151381 -0.20123996 -0.20124498 -0.2015987\n",
            " -0.20168173 -0.20161228 -0.20062236 -0.20152579 -0.20116167 -0.20190259\n",
            " -0.20159343 -0.20154496 -0.20150962 -0.20179208 -0.20127514 -0.2011744\n",
            " -0.20121161 -0.20157133]\n",
            "\n",
            "Split 1 Loss in Training Data\n",
            "\n",
            "[-0.20214379 -0.20161848 -0.20153458 -0.20209538 -0.20198287 -0.20218945\n",
            " -0.20186524 -0.2018041  -0.20168693 -0.2019412  -0.20211539 -0.20176127\n",
            " -0.20191652 -0.20207336 -0.20204191 -0.20190551 -0.20173332 -0.20191381\n",
            " -0.2016015  -0.20154201 -0.20162115 -0.20126139 -0.20191758 -0.20170582\n",
            " -0.20211007 -0.20191841 -0.20198466 -0.20210518 -0.2017358  -0.20219155\n",
            " -0.20204779 -0.20171773 -0.20187553 -0.20219998 -0.20166394 -0.20169746\n",
            " -0.20172137 -0.20220609 -0.20185411 -0.20207169 -0.20162531 -0.20236806\n",
            " -0.20162886 -0.20188005 -0.20157815 -0.2019926  -0.20184379 -0.20187863\n",
            " -0.20166651 -0.20211346]\n",
            "\n",
            "\n",
            "\n",
            " Split 1 Loss in Validation Data\n",
            "\n",
            "[-0.20214379 -0.20161848 -0.20153458 -0.20209538 -0.20198287 -0.20218945\n",
            " -0.20186524 -0.2018041  -0.20168693 -0.2019412  -0.20211539 -0.20176127\n",
            " -0.20191652 -0.20207336 -0.20204191 -0.20190551 -0.20173332 -0.20191381\n",
            " -0.2016015  -0.20154201 -0.20162115 -0.20126139 -0.20191758 -0.20170582\n",
            " -0.20211007 -0.20191841 -0.20198466 -0.20210518 -0.2017358  -0.20219155\n",
            " -0.20204779 -0.20171773 -0.20187553 -0.20219998 -0.20166394 -0.20169746\n",
            " -0.20172137 -0.20220609 -0.20185411 -0.20207169 -0.20162531 -0.20236806\n",
            " -0.20162886 -0.20188005 -0.20157815 -0.2019926  -0.20184379 -0.20187863\n",
            " -0.20166651 -0.20211346]\n",
            "\n",
            "Split 2 Loss in Training Data\n",
            "\n",
            "[-0.20202643 -0.20109968 -0.20097526 -0.20132867 -0.20173818 -0.20131868\n",
            " -0.2013587  -0.20180444 -0.2017458  -0.20154543 -0.20170357 -0.20156426\n",
            " -0.20110274 -0.20164626 -0.20183286 -0.20139148 -0.20158253 -0.20132685\n",
            " -0.20146376 -0.20166054 -0.2013245  -0.20151858 -0.2017592  -0.20165265\n",
            " -0.20149361 -0.20107211 -0.2014092  -0.20188828 -0.20133098 -0.20139626\n",
            " -0.20182788 -0.20127874 -0.20117922 -0.20133606 -0.20153187 -0.2015037\n",
            " -0.20151912 -0.20168463 -0.20132918 -0.20172262 -0.20131447 -0.20155768\n",
            " -0.20122827 -0.2019073  -0.20167569 -0.20127072 -0.20175393 -0.20166954\n",
            " -0.2013563  -0.20149672]\n",
            "\n",
            "\n",
            "\n",
            " Split 2 Loss in Validation Data\n",
            "\n",
            "[-0.20202643 -0.20109968 -0.20097526 -0.20132867 -0.20173818 -0.20131868\n",
            " -0.2013587  -0.20180444 -0.2017458  -0.20154543 -0.20170357 -0.20156426\n",
            " -0.20110274 -0.20164626 -0.20183286 -0.20139148 -0.20158253 -0.20132685\n",
            " -0.20146376 -0.20166054 -0.2013245  -0.20151858 -0.2017592  -0.20165265\n",
            " -0.20149361 -0.20107211 -0.2014092  -0.20188828 -0.20133098 -0.20139626\n",
            " -0.20182788 -0.20127874 -0.20117922 -0.20133606 -0.20153187 -0.2015037\n",
            " -0.20151912 -0.20168463 -0.20132918 -0.20172262 -0.20131447 -0.20155768\n",
            " -0.20122827 -0.2019073  -0.20167569 -0.20127072 -0.20175393 -0.20166954\n",
            " -0.2013563  -0.20149672]\n",
            "\n",
            "Split 3 Loss in Training Data\n",
            "\n",
            "[-0.20123876 -0.20145263 -0.20057008 -0.2015796  -0.20132133 -0.20120168\n",
            " -0.20195984 -0.20122992 -0.20141209 -0.20112174 -0.20103654 -0.20097378\n",
            " -0.20116661 -0.20182437 -0.20108216 -0.20115945 -0.20114279 -0.20132155\n",
            " -0.20117336 -0.20163341 -0.20163006 -0.20125874 -0.20118827 -0.20125199\n",
            " -0.20163706 -0.20146012 -0.2014403  -0.20108479 -0.20136272 -0.20161074\n",
            " -0.20159811 -0.20089518 -0.20156028 -0.2014281  -0.20103819 -0.20146177\n",
            " -0.20141    -0.20169377 -0.20128678 -0.2013876  -0.2015798  -0.20115947\n",
            " -0.20114772 -0.20136111 -0.20158182 -0.20140433 -0.20118732 -0.20115197\n",
            " -0.2012558  -0.20159235]\n",
            "\n",
            "\n",
            "\n",
            " Split 3 Loss in Validation Data\n",
            "\n",
            "[-0.20123876 -0.20145263 -0.20057008 -0.2015796  -0.20132133 -0.20120168\n",
            " -0.20195984 -0.20122992 -0.20141209 -0.20112174 -0.20103654 -0.20097378\n",
            " -0.20116661 -0.20182437 -0.20108216 -0.20115945 -0.20114279 -0.20132155\n",
            " -0.20117336 -0.20163341 -0.20163006 -0.20125874 -0.20118827 -0.20125199\n",
            " -0.20163706 -0.20146012 -0.2014403  -0.20108479 -0.20136272 -0.20161074\n",
            " -0.20159811 -0.20089518 -0.20156028 -0.2014281  -0.20103819 -0.20146177\n",
            " -0.20141    -0.20169377 -0.20128678 -0.2013876  -0.2015798  -0.20115947\n",
            " -0.20114772 -0.20136111 -0.20158182 -0.20140433 -0.20118732 -0.20115197\n",
            " -0.2012558  -0.20159235]\n",
            "\n",
            "Split 4 Loss in Training Data\n",
            "\n",
            "[-0.20219422 -0.20198979 -0.20153277 -0.20176968 -0.20169582 -0.20210239\n",
            " -0.2017848  -0.20174396 -0.20180243 -0.20174272 -0.20205254 -0.2011706\n",
            " -0.2017522  -0.20193081 -0.20179717 -0.20169187 -0.20183803 -0.20165018\n",
            " -0.20145241 -0.20146508 -0.20213218 -0.20214018 -0.20177952 -0.20182991\n",
            " -0.20153593 -0.20171352 -0.20155918 -0.20197279 -0.20151454 -0.20191289\n",
            " -0.20155541 -0.20151329 -0.20124498 -0.20174475 -0.20164684 -0.20164854\n",
            " -0.20150434 -0.20139348 -0.2017985  -0.20177842 -0.20173566 -0.20151679\n",
            " -0.20222766 -0.20149031 -0.20183556 -0.20211065 -0.20189988 -0.20173725\n",
            " -0.20194206 -0.20166017]\n",
            "\n",
            "\n",
            "\n",
            " Split 4 Loss in Validation Data\n",
            "\n",
            "[-0.20219422 -0.20198979 -0.20153277 -0.20176968 -0.20169582 -0.20210239\n",
            " -0.2017848  -0.20174396 -0.20180243 -0.20174272 -0.20205254 -0.2011706\n",
            " -0.2017522  -0.20193081 -0.20179717 -0.20169187 -0.20183803 -0.20165018\n",
            " -0.20145241 -0.20146508 -0.20213218 -0.20214018 -0.20177952 -0.20182991\n",
            " -0.20153593 -0.20171352 -0.20155918 -0.20197279 -0.20151454 -0.20191289\n",
            " -0.20155541 -0.20151329 -0.20124498 -0.20174475 -0.20164684 -0.20164854\n",
            " -0.20150434 -0.20139348 -0.2017985  -0.20177842 -0.20173566 -0.20151679\n",
            " -0.20222766 -0.20149031 -0.20183556 -0.20211065 -0.20189988 -0.20173725\n",
            " -0.20194206 -0.20166017]\n",
            "\n",
            "Mean Loss in Training Data\n",
            "\n",
            "[-0.20181009 -0.20153898 -0.20126715 -0.20168844 -0.20156011 -0.20170963\n",
            " -0.20167173 -0.20153721 -0.2016531  -0.20170239 -0.20169658 -0.20137636\n",
            " -0.20145506 -0.20172505 -0.20155171 -0.20148455 -0.20152571 -0.2015774\n",
            " -0.20145053 -0.20159388 -0.20163306 -0.20152587 -0.20164861 -0.20155609\n",
            " -0.20158919 -0.20151206 -0.20148438 -0.20158233 -0.20146394 -0.20175582\n",
            " -0.20163144 -0.20133546 -0.20147476 -0.20158977 -0.20142516 -0.20158203\n",
            " -0.20156731 -0.20171805 -0.20137819 -0.20169722 -0.20148338 -0.20170092\n",
            " -0.20156519 -0.20163675 -0.20163617 -0.20171408 -0.20159201 -0.20152236\n",
            " -0.20148645 -0.20168681]\n",
            "\n",
            "\n",
            "\n",
            " Mean Loss in Validation Data\n",
            "\n",
            "[-0.20181009 -0.20153898 -0.20126715 -0.20168844 -0.20156011 -0.20170963\n",
            " -0.20167173 -0.20153721 -0.2016531  -0.20170239 -0.20169658 -0.20137636\n",
            " -0.20145506 -0.20172505 -0.20155171 -0.20148455 -0.20152571 -0.2015774\n",
            " -0.20145053 -0.20159388 -0.20163306 -0.20152587 -0.20164861 -0.20155609\n",
            " -0.20158919 -0.20151206 -0.20148438 -0.20158233 -0.20146394 -0.20175582\n",
            " -0.20163144 -0.20133546 -0.20147476 -0.20158977 -0.20142516 -0.20158203\n",
            " -0.20156731 -0.20171805 -0.20137819 -0.20169722 -0.20148338 -0.20170092\n",
            " -0.20156519 -0.20163675 -0.20163617 -0.20171408 -0.20159201 -0.20152236\n",
            " -0.20148645 -0.20168681]\n"
          ]
        }
      ]
    },
    {
      "cell_type": "code",
      "source": [
        "param_range = np.arange(300, 350)\n",
        "plt.figure(figsize=(5, 5), dpi=80)\n",
        "plt.title(\"Training & Validation Losses\")\n",
        "\n",
        "plt.ylabel(\"Loss\")\n",
        "plt.xlabel(r\"n_neighbors\")\n",
        "\n",
        "plt.ylim(-1, 0)\n",
        "plt.plot(param_range, rf_with_gs.cv_results_[\"mean_train_score\"], label=\"Training Loss\", color=\"red\")\n",
        "plt.plot(param_range, rf_with_gs.cv_results_[\"mean_test_score\"], label=\"Validation Loss\", color=\"blue\")\n",
        "\n",
        "plt.legend(loc=\"best\")\n",
        "plt.show()\n"
      ],
      "metadata": {
        "colab": {
          "base_uri": "https://localhost:8080/",
          "height": 384
        },
        "id": "Mw9_cD79zOjL",
        "outputId": "18e3622b-ed1a-4430-b068-d89765543500"
      },
      "execution_count": 97,
      "outputs": [
        {
          "output_type": "display_data",
          "data": {
            "image/png": "[encoded data removed]",
            "text/plain": [
              "<Figure size 400x400 with 1 Axes>"
            ]
          },
          "metadata": {
            "needs_background": "light"
          }
        }
      ]
    },
    {
      "cell_type": "code",
      "source": [
        "pred_labels =  rf_with_gs.predict(X_test)"
      ],
      "metadata": {
        "id": "lIWISF0dBi0R"
      },
      "execution_count": 98,
      "outputs": []
    },
    {
      "cell_type": "code",
      "source": [
        "accuracy = accuracy_score(y_test, pred_labels)\n",
        "print(\"Accuracy = \", accuracy)\n",
        "print(classification_report(y_test, pred_labels))"
      ],
      "metadata": {
        "colab": {
          "base_uri": "https://localhost:8080/"
        },
        "id": "hpB_JdL5BrCx",
        "outputId": "2e8231fd-545e-4c8b-ec27-43ae340b62d1"
      },
      "execution_count": 99,
      "outputs": [
        {
          "output_type": "stream",
          "name": "stdout",
          "text": [
            "Accuracy =  0.7802071346375143\n",
            "              precision    recall  f1-score   support\n",
            "\n",
            "           0       0.78      0.73      0.76      1067\n",
            "           1       0.77      0.85      0.81      1393\n",
            "           2       0.78      0.74      0.76      1016\n",
            "\n",
            "    accuracy                           0.78      3476\n",
            "   macro avg       0.78      0.77      0.78      3476\n",
            "weighted avg       0.78      0.78      0.78      3476\n",
            "\n"
          ]
        }
      ]
    },
    {
      "cell_type": "code",
      "source": [
        "conf_mat = confusion_matrix(y_test, pred_labels)\n",
        "plot_cnm = ConfusionMatrixDisplay(confusion_matrix=conf_mat, display_labels=labels)\n",
        "plot_cnm.plot()\n",
        "plt.grid(False)\n",
        "plt.show()"
      ],
      "metadata": {
        "colab": {
          "base_uri": "https://localhost:8080/",
          "height": 279
        },
        "id": "RY64YuCW9P3g",
        "outputId": "9a59209d-f982-4014-f7bb-5271173b33a7"
      },
      "execution_count": 100,
      "outputs": [
        {
          "output_type": "display_data",
          "data": {
            "image/png": "[encoded data removed]",
            "text/plain": [
              "<Figure size 432x288 with 2 Axes>"
            ]
          },
          "metadata": {
            "needs_background": "light"
          }
        }
      ]
    },
    {
      "cell_type": "markdown",
      "source": [
        "# PART 2: Kernelized SVM using sklearn Support Vector Classifier (SVC)\n",
        "\n",
        "#### Initialize and Fitting the model with Kernel \"rbf\" - Radial basis function"
      ],
      "metadata": {
        "id": "t7wvAPNTY_uM"
      }
    },
    {
      "cell_type": "code",
      "source": [
        "rbfSVM = svm.SVC(kernel='rbf', C = 1, probability=True)\n",
        "rbfSVM.fit(X_train, y_train)\n"
      ],
      "metadata": {
        "colab": {
          "base_uri": "https://localhost:8080/"
        },
        "id": "Kb0Cuzu_qqHe",
        "outputId": "cd7ce20e-2d95-462b-884b-4309006bc8af"
      },
      "execution_count": null,
      "outputs": [
        {
          "output_type": "execute_result",
          "data": {
            "text/plain": [
              "SVC(C=1, probability=True)"
            ]
          },
          "metadata": {},
          "execution_count": 5
        }
      ]
    },
    {
      "cell_type": "markdown",
      "source": [
        "#### 5-Fold Cross-Validation, fitting the hyperparameter - Gamma "
      ],
      "metadata": {
        "id": "F9Z9VuKeZ4WT"
      }
    },
    {
      "cell_type": "code",
      "execution_count": null,
      "metadata": {
        "id": "l7z6865WlBgp"
      },
      "outputs": [],
      "source": [
        "train_scores, validation_scores = validation_curve(rbfSVM, X_train, y_train, param_name=\"gamma\", param_range=np.logspace(-1, 1, 5), cv=5, scoring=\"neg_log_loss\")"
      ]
    },
    {
      "cell_type": "code",
      "source": [
        "### Reporting The Losses ###\n",
        "\n",
        "print(\"\\nLoss in Training Data\\n\")\n",
        "print(train_scores)\n",
        "print(\"\\n\\n\")\n",
        "print(\"\\nLoss in Validation Data\\n\")\n",
        "print(validation_scores)"
      ],
      "metadata": {
        "colab": {
          "base_uri": "https://localhost:8080/"
        },
        "id": "_4I_BJodE6JY",
        "outputId": "bf7638cb-382e-41a1-afe5-5a12dc84a02a"
      },
      "execution_count": null,
      "outputs": [
        {
          "output_type": "stream",
          "name": "stdout",
          "text": [
            "\n",
            "Loss in Training Data\n",
            "\n",
            "[[-5.92280874e-01 -5.93747825e-01 -5.88019990e-01 -5.89144694e-01\n",
            "  -5.91611833e-01]\n",
            " [-2.01749798e-01 -2.00707815e-01 -1.92277137e-01 -1.96538809e-01\n",
            "  -1.99651048e-01]\n",
            " [-2.58246160e-02 -2.53498738e-02 -2.40345021e-02 -2.35112955e-02\n",
            "  -2.42791435e-02]\n",
            " [-1.36206337e-03 -5.62787166e-04 -5.09372455e-04 -3.99039397e-04\n",
            "  -3.25607047e-04]\n",
            " [-2.02095575e-07 -4.68745169e-07 -8.41039008e-08 -9.91190302e-07\n",
            "  -6.91830854e-07]]\n",
            "\n",
            "\n",
            "\n",
            "\n",
            "Loss in Validation Data\n",
            "\n",
            "[[-0.71097588 -0.70503554 -0.70917097 -0.7430096  -0.70953747]\n",
            " [-0.4716403  -0.46523331 -0.49669087 -0.49057074 -0.47120098]\n",
            " [-0.47821848 -0.46858299 -0.49304511 -0.50452333 -0.49223732]\n",
            " [-0.76836968 -0.72442629 -0.74632222 -0.79790085 -0.74316718]\n",
            " [-1.0195884  -1.01545167 -1.00821961 -1.02518128 -1.0275988 ]]\n"
          ]
        }
      ]
    },
    {
      "cell_type": "code",
      "source": [
        "param_range=np.logspace(-1, 1, 5)\n",
        "\n",
        "plt.figure(figsize=(10, 10), dpi=80)\n",
        "plt.title(\"Training & Validation Losses\")\n",
        "\n",
        "plt.ylabel(\"Loss\")\n",
        "plt.xlabel(r\"$\\gamma$ - Gamma\")\n",
        "\n",
        "plt.ylim(-2, 1)\n",
        "\n",
        "plt.semilogx(param_range, train_scores, label=\"Training Loss\", color=\"red\")\n",
        "\n",
        "plt.semilogx(param_range, validation_scores, label=\"Validation Loss\", color=\"blue\")\n",
        "\n",
        "plt.legend(loc=\"best\")\n",
        "plt.show()\n"
      ],
      "metadata": {
        "colab": {
          "base_uri": "https://localhost:8080/",
          "height": 696
        },
        "id": "vYvzHcGz73tj",
        "outputId": "a4fc8585-3765-4c23-a067-a9c35495864d"
      },
      "execution_count": null,
      "outputs": [
        {
          "output_type": "display_data",
          "data": {
            "image/png": "[encoded data removed]",
            "text/plain": [
              "<Figure size 800x800 with 1 Axes>"
            ]
          },
          "metadata": {
            "needs_background": "light"
          }
        }
      ]
    },
    {
      "cell_type": "markdown",
      "source": [
        "#### Fitting the model on optimized Coefficients. Taking Gamma = 0.5 & C = 0.5"
      ],
      "metadata": {
        "id": "D4tohncUbCby"
      }
    },
    {
      "cell_type": "code",
      "source": [
        "rbfSVM = svm.SVC(kernel='rbf', C = 0.5, gamma=0.5)\n",
        "rbfSVM.fit(X_train, y_train)"
      ],
      "metadata": {
        "colab": {
          "base_uri": "https://localhost:8080/"
        },
        "id": "xoaATJ4NbANL",
        "outputId": "1f6f05d3-1565-4768-d116-80edb2742b0d"
      },
      "execution_count": null,
      "outputs": [
        {
          "output_type": "execute_result",
          "data": {
            "text/plain": [
              "SVC(C=0.5, gamma=0.5)"
            ]
          },
          "metadata": {},
          "execution_count": 67
        }
      ]
    },
    {
      "cell_type": "markdown",
      "source": [
        "#### Prediction The Data"
      ],
      "metadata": {
        "id": "0Q_9OOiSk5oq"
      }
    },
    {
      "cell_type": "code",
      "execution_count": null,
      "metadata": {
        "id": "vmwV5RHlaYaD"
      },
      "outputs": [],
      "source": [
        "pred_labels = rbfSVM.predict(X_test)"
      ]
    },
    {
      "cell_type": "markdown",
      "source": [
        "#### Calculating & Reporting Accuracy & Classification Report"
      ],
      "metadata": {
        "id": "Htto4pvzk8dc"
      }
    },
    {
      "cell_type": "code",
      "execution_count": null,
      "metadata": {
        "colab": {
          "base_uri": "https://localhost:8080/"
        },
        "id": "T4Ikm7vNak7J",
        "outputId": "836d0c1e-d926-4d80-8bd1-71f176324091"
      },
      "outputs": [
        {
          "output_type": "stream",
          "name": "stdout",
          "text": [
            "Accuracy =  0.8147295742232451\n",
            "              precision    recall  f1-score   support\n",
            "\n",
            "           0       0.83      0.76      0.79      1067\n",
            "           1       0.80      0.89      0.84      1393\n",
            "           2       0.82      0.77      0.80      1016\n",
            "\n",
            "    accuracy                           0.81      3476\n",
            "   macro avg       0.82      0.81      0.81      3476\n",
            "weighted avg       0.82      0.81      0.81      3476\n",
            "\n"
          ]
        }
      ],
      "source": [
        "accuracy = accuracy_score(y_test, pred_labels)\n",
        "print(\"Accuracy = \", accuracy)\n",
        "print(classification_report(y_test, pred_labels))"
      ]
    },
    {
      "cell_type": "markdown",
      "source": [
        "#### Building & Plotting Confusion Matrix"
      ],
      "metadata": {
        "id": "_-XIuTUYlI-E"
      }
    },
    {
      "cell_type": "code",
      "execution_count": null,
      "metadata": {
        "colab": {
          "base_uri": "https://localhost:8080/",
          "height": 279
        },
        "id": "n-6aDkc7g4WA",
        "outputId": "1cdacfd8-66c0-4831-ad84-0d756496e672"
      },
      "outputs": [
        {
          "output_type": "display_data",
          "data": {
            "image/png": "[encoded data removed]",
            "text/plain": [
              "<Figure size 432x288 with 2 Axes>"
            ]
          },
          "metadata": {
            "needs_background": "light"
          }
        }
      ],
      "source": [
        "conf_mat = confusion_matrix(y_test, pred_labels)\n",
        "plot_cnm = ConfusionMatrixDisplay(confusion_matrix=conf_mat, display_labels=labels)\n",
        "plot_cnm.plot()\n",
        "plt.grid(False)\n",
        "plt.show()"
      ]
    },
    {
      "cell_type": "markdown",
      "source": [
        "# Part 3: Neural Network Implementation"
      ],
      "metadata": {
        "id": "Mfw3QPOwT7q0"
      }
    },
    {
      "cell_type": "code",
      "source": [
        "# 5 fold validation\n",
        "valdata = X_train # trdata has 1304 vectors so we are spliting it in f different parts with 260:260:260:260:264 paertitions\n",
        "vall = y_train       # vall are labels of validation data\n",
        "fld1 = valdata[:2779] # first fold \n",
        "ofld1 = vall[:2779]  # output of traning label for fld1 \n",
        "fld2 = valdata[2780:5559]\n",
        "ofld2 = vall[2780:5559]\n",
        "fld3 = valdata[5560:8339]\n",
        "ofld3 = vall[5560:8339]\n",
        "fld4 = valdata[8340:11119]\n",
        "ofld4 = vall[8340:11119]\n",
        "fld5 = valdata[11124:13903]\n",
        "ofld5 = vall[11124:13903]\n",
        "\n",
        "def vald(f = 1): # f is for validation iteration from 1 to f, function vald wil return list with three members\n",
        "                 # traning data for validation, labels of coresponding training set(cts) and test data for validation\n",
        "        \n",
        "        if f==1:\n",
        "            trval = fld2+fld3+fld4+fld5 # traning data for validation\n",
        "            tsval = fld1                # test data for validation \n",
        "            cts =  ofld2+ofld3+ofld4+ofld5\n",
        "        elif f==2:\n",
        "            trval = fld1+fld3+fld4+fld5 \n",
        "            tsval = fld2\n",
        "            cts = ofld1+ofld3+ofld4+ofld5 \n",
        "        elif f==3:\n",
        "            trval = fld1+fld2+fld4+fld5 \n",
        "            tsval = fld3\n",
        "            cts = ofld1+ofld2+ofld4+ofld5\n",
        "        elif f==4:\n",
        "            trval = fld1+fld2+fld3+fld5 \n",
        "            tsval = fld4\n",
        "            cts = ofld1+ofld2+ofld3+ofld5\n",
        "        elif f==5:\n",
        "            trval = fld1+fld2+fld3+fld4 \n",
        "            tsval = fld5\n",
        "            cts = ofld1+ofld2+ofld3+ofld4 \n",
        "        result = [trval,cts,tsval]\n",
        "        return result # trdata has 1304 vectors so we are spliting it in f different parts with 260:260:260:260:264 paertitions\n"
      ],
      "metadata": {
        "id": "owhE5uIET7Bb"
      },
      "execution_count": 110,
      "outputs": []
    },
    {
      "cell_type": "code",
      "source": [
        "def avf(f=1): #actual values for f = f from 1 to 5\n",
        "    if f==1:\n",
        "        tssnt = ofld1                \n",
        "    elif f==2:\n",
        "        tssnt = ofld2  \n",
        "    elif f==3:\n",
        "        tssnt = ofld3 \n",
        "    elif f==4:\n",
        "        tssnt = ofld4 \n",
        "    elif f==5:\n",
        "        tssnt = ofld5 \n",
        "    return tssnt"
      ],
      "metadata": {
        "id": "pbPy4tK0T_9T"
      },
      "execution_count": 111,
      "outputs": []
    },
    {
      "cell_type": "code",
      "source": [
        "\n",
        "ac = np.array([0.0]*5)\n",
        "accr = 0\n",
        "for f in range(1,6): # f from 1 to 5 for 5 fold validation\n",
        "        vld_data = vald(f)\n",
        "        nnc = MLPClassifier(hidden_layer_sizes=300,alpha=0.01, max_iter=1500).fit(vld_data[0], vld_data[1]) # nnc = neral network classifier\n",
        "        acr =  nnc.score(vld_data[2], avf(f)) # acr = acuracy \n",
        "        \n",
        "        ac[f-1] = acr\n",
        "\n",
        "\n"
      ],
      "metadata": {
        "id": "Q3gZ9CMQUFZA"
      },
      "execution_count": 118,
      "outputs": []
    },
    {
      "cell_type": "code",
      "source": [
        "#Validation acuuracy is \n",
        "accr = 0\n",
        "for ind in range(5):\n",
        "  accr += ac[ind]\n",
        " \n",
        "print('5 fold Validation acuuracy is : ')\n",
        "print(acr) "
      ],
      "metadata": {
        "colab": {
          "base_uri": "https://localhost:8080/"
        },
        "id": "6IgSo2DcUShj",
        "outputId": "9f5f2b71-4203-46b3-8e98-5e55877aac0c"
      },
      "execution_count": 119,
      "outputs": [
        {
          "output_type": "stream",
          "name": "stdout",
          "text": [
            "5 fold Validation acuuracy is : \n",
            "0.04929830874415257\n"
          ]
        }
      ]
    },
    {
      "cell_type": "code",
      "source": [
        "count = 0\n",
        "y1 = np.array([0.00]*10)\n",
        "alph = np.array([0.0001,0.0002,0.0004,0.0006,0.0008,0.001,0.003,0.005,0.007,0.01])\n",
        "for alphas in alph:\n",
        "   vld_data = vald(3)\n",
        "   nnc = MLPClassifier(hidden_layer_sizes=4,alpha=alphas, max_iter=1500).fit(vld_data[0], np.ravel(vld_data[1]))\n",
        "   y1[count] = nnc.score(vld_data[2], np.ravel(avf(3)))\n",
        "   count += 1\n",
        "\n"
      ],
      "metadata": {
        "id": "7-cI0dcdUbwJ"
      },
      "execution_count": 120,
      "outputs": []
    },
    {
      "cell_type": "code",
      "source": [
        "count = 0\n",
        "y2 = np.array([0.00]*10)\n",
        "alph = np.array([0.0001,0.0002,0.0004,0.0006,0.0008,0.001,0.003,0.005,0.007,0.01])\n",
        "for alphas in alph:\n",
        "   vld_data = vald(3)\n",
        "   nnc = MLPClassifier(hidden_layer_sizes=10,alpha=alphas, max_iter=1500).fit(vld_data[0], np.ravel(vld_data[1]))\n",
        "   y2[count] = nnc.score(vld_data[2], np.ravel(avf(3)))\n",
        "   count += 1"
      ],
      "metadata": {
        "id": "lDyc2GF-UdOp"
      },
      "execution_count": 121,
      "outputs": []
    },
    {
      "cell_type": "code",
      "source": [
        "count = 0\n",
        "y3 = np.array([0.00]*10)\n",
        "alph = np.array([0.0001,0.0002,0.0004,0.0006,0.0008,0.001,0.003,0.005,0.007,0.01])\n",
        "for alphas in alph:\n",
        "   vld_data = vald(3)\n",
        "   nnc = MLPClassifier(hidden_layer_sizes=60,alpha=alphas, max_iter=1500).fit(vld_data[0], np.ravel(vld_data[1]))\n",
        "   y3[count] = nnc.score(vld_data[2], np.ravel(avf(3)))\n",
        "   count += 1\n"
      ],
      "metadata": {
        "id": "Bl2bw9BYUfuI"
      },
      "execution_count": 122,
      "outputs": []
    },
    {
      "cell_type": "code",
      "source": [
        "count = 0\n",
        "y4 = np.array([0.00]*10)\n",
        "alph = np.array([0.0001,0.0002,0.0004,0.0006,0.0008,0.001,0.003,0.005,0.007,0.01])\n",
        "for alphas in alph:\n",
        "   vld_data = vald(3)\n",
        "   nnc = MLPClassifier(hidden_layer_sizes=100,alpha=alphas, max_iter=1500).fit(vld_data[0], np.ravel(vld_data[1]))\n",
        "   y3[count] = nnc.score(vld_data[2], np.ravel(avf(3)))\n",
        "   count += 1"
      ],
      "metadata": {
        "id": "8kC-l-TIUg4j"
      },
      "execution_count": 123,
      "outputs": []
    },
    {
      "cell_type": "code",
      "source": [
        "count = 0\n",
        "y5 = np.array([0.00]*10)\n",
        "alph = np.array([0.0001,0.0002,0.0004,0.0006,0.0008,0.001,0.003,0.005,0.007,0.01])\n",
        "for alphas in alph:\n",
        "   vld_data = vald(3)\n",
        "   nnc = MLPClassifier(hidden_layer_sizes=150,alpha=alphas, max_iter=1500).fit(vld_data[0], np.ravel(vld_data[1]))\n",
        "   y5[count] = nnc.score(vld_data[2], np.ravel(avf(3)))\n",
        "   count += 1"
      ],
      "metadata": {
        "id": "Oq-nXVxFUiCV"
      },
      "execution_count": 124,
      "outputs": []
    },
    {
      "cell_type": "code",
      "source": [
        "# Graph for 5 fold validation\n",
        "\n",
        "plt.plot(alph, y1*1000.00,marker='o') # scaling and ploting\n",
        "plt.plot(alph, y2*1000.00,marker='o')\n",
        "plt.plot(alph, y3*1000.00,marker='o')\n",
        "plt.plot(alph, y4*1000.00,marker='o')\n",
        "plt.plot(alph, y5*1000.00,marker='o')\n",
        "\n",
        "        \n",
        "plt.xlabel('alpha values')\n",
        "plt.ylabel(\"Accuracy\")\n",
        "plt.title(\"Validation losses and Acuracy Graph\")\n",
        "plt.legend(['hidden_layer_sizes = 4','hidden_layer_sizes = 10','hidden_layer_sizes = 60','hidden_layer_sizes = 100','hidden_layer_sizes = 150'],loc='center left', bbox_to_anchor=(1, 0.5))\n",
        "plt.show()"
      ],
      "metadata": {
        "colab": {
          "base_uri": "https://localhost:8080/",
          "height": 295
        },
        "id": "d-e5AUeEUjKd",
        "outputId": "39bd96b5-0451-4d58-f278-cf4e2eb0fa14"
      },
      "execution_count": 125,
      "outputs": [
        {
          "output_type": "display_data",
          "data": {
            "image/png": "[encoded data removed]",
            "text/plain": [
              "<Figure size 432x288 with 1 Axes>"
            ]
          },
          "metadata": {
            "needs_background": "light"
          }
        }
      ]
    },
    {
      "cell_type": "code",
      "source": [
        "# Testing\n",
        "nnc = MLPClassifier(hidden_layer_sizes=300,alpha=0.09, max_iter=1500).fit(X_train, np.ravel(y_train))\n",
        "acr =  nnc.score(X_test, np.ravel(y_test))\n",
        "print(\"Accuracy is = \", acr)\n"
      ],
      "metadata": {
        "colab": {
          "base_uri": "https://localhost:8080/"
        },
        "id": "J3gKVjynUoNe",
        "outputId": "d6e6ad39-111b-412a-c10e-af8ae41c8b56"
      },
      "execution_count": 126,
      "outputs": [
        {
          "output_type": "stream",
          "name": "stdout",
          "text": [
            "Accuracy is =  0.706271576524741\n"
          ]
        }
      ]
    },
    {
      "cell_type": "code",
      "source": [
        "y_pred = np.array([1]*len(X_test))\n",
        "for i in range(len(X_test)):\n",
        "  c=nnc.predict_proba(X_test[i].reshape(1, -1))\n",
        "  y_pred[i] = np.argmax(c)"
      ],
      "metadata": {
        "id": "qayObdy8Upch"
      },
      "execution_count": 127,
      "outputs": []
    },
    {
      "cell_type": "code",
      "source": [
        "label_names = ['en', 'ue', 'ur']\n",
        "print(classification_report(y_test, y_pred, target_names=label_names))"
      ],
      "metadata": {
        "colab": {
          "base_uri": "https://localhost:8080/"
        },
        "id": "UgzAdEGvUrWB",
        "outputId": "4cd5a134-5171-43b8-a813-bb0e69e428f3"
      },
      "execution_count": 128,
      "outputs": [
        {
          "output_type": "stream",
          "name": "stdout",
          "text": [
            "              precision    recall  f1-score   support\n",
            "\n",
            "          en       0.70      0.64      0.67      1067\n",
            "          ue       0.74      0.76      0.75      1393\n",
            "          ur       0.67      0.70      0.69      1016\n",
            "\n",
            "    accuracy                           0.71      3476\n",
            "   macro avg       0.70      0.70      0.70      3476\n",
            "weighted avg       0.71      0.71      0.71      3476\n",
            "\n"
          ]
        }
      ]
    },
    {
      "cell_type": "code",
      "source": [
        "\n",
        "conf_mat = confusion_matrix(y_test, pred_labels)\n",
        "plot_cnm = ConfusionMatrixDisplay(confusion_matrix=conf_mat, display_labels=labels)\n",
        "plot_cnm.plot()\n",
        "plt.grid(False)\n",
        "plt.show()"
      ],
      "metadata": {
        "colab": {
          "base_uri": "https://localhost:8080/",
          "height": 279
        },
        "id": "jha72K3lUrZW",
        "outputId": "f3e20a7d-34c2-40bf-8e2d-d61ed7752e33"
      },
      "execution_count": 129,
      "outputs": [
        {
          "output_type": "display_data",
          "data": {
            "image/png": "[encoded data removed]",
            "text/plain": [
              "<Figure size 432x288 with 2 Axes>"
            ]
          },
          "metadata": {
            "needs_background": "light"
          }
        }
      ]
    },
    {
      "cell_type": "markdown",
      "source": [
        "#Ensemble method \n",
        "\n",
        "### We will use methods from Decision Trees to implement Ensemble method classification with Forests of randomized trees"
      ],
      "metadata": {
        "id": "KLsjqu2IzPEQ"
      }
    },
    {
      "cell_type": "code",
      "source": [
        "from sklearn.ensemble import RandomForestClassifier\n",
        "from sklearn.ensemble import ExtraTreesClassifier"
      ],
      "metadata": {
        "id": "J0WA3trMzoIu"
      },
      "execution_count": 131,
      "outputs": []
    },
    {
      "cell_type": "code",
      "source": [
        "RF = RandomForestClassifier(n_estimators=300, max_depth=None,criterion='entropy',random_state=0)\n",
        "RF.fit(X_train, np.ravel(y_train))\n",
        "pred_Y = RF.predict(X_test)\n",
        "rfacr = metrics.accuracy_score(y_test,pred_Y)\n",
        "print(rfacr) "
      ],
      "metadata": {
        "colab": {
          "base_uri": "https://localhost:8080/"
        },
        "id": "V42YmV93zUS9",
        "outputId": "d7c2d2f4-d242-4fac-f136-2a64a6ede368"
      },
      "execution_count": 130,
      "outputs": [
        {
          "output_type": "stream",
          "name": "stdout",
          "text": [
            "0.784234752589183\n"
          ]
        }
      ]
    },
    {
      "cell_type": "code",
      "source": [
        "emc = ExtraTreesClassifier(n_estimators=310, max_depth=None,min_samples_split=2, random_state=0) # Ensemble methods classifier\n",
        "scoresv = cross_val_score(emc, X_train, np.ravel(y_train), cv=9) #score value\n",
        "acur = scoresv.mean()\n",
        "print(\"Accuracy score: \")\n",
        "print(acur) # It is very high accuracy which is acheived with Ensemble methods"
      ],
      "metadata": {
        "colab": {
          "base_uri": "https://localhost:8080/"
        },
        "id": "skiHVqdVzdYX",
        "outputId": "00f169a9-074e-4f8d-84fc-0205fbf24bcf"
      },
      "execution_count": 132,
      "outputs": [
        {
          "output_type": "stream",
          "name": "stdout",
          "text": [
            "Accuracy score: \n",
            "0.7949354707088999\n"
          ]
        }
      ]
    }
  ],
  "metadata": {
    "colab": {
      "collapsed_sections": [],
      "name": "23100197_21030021_23100198_22100185_20070008_22100291_group24.ipynb",
      "provenance": []
    },
    "kernelspec": {
      "display_name": "Python 3",
      "name": "python3"
    },
    "language_info": {
      "name": "python"
    },
    "accelerator": "GPU"
  },
  "nbformat": 4,
  "nbformat_minor": 0
}